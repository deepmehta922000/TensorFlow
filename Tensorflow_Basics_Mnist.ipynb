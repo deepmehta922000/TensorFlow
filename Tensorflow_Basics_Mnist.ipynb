{
  "nbformat": 4,
  "nbformat_minor": 0,
  "metadata": {
    "colab": {
      "provenance": [],
      "toc_visible": true
    },
    "kernelspec": {
      "name": "python3",
      "display_name": "Python 3"
    },
    "language_info": {
      "name": "python"
    }
  },
  "cells": [
    {
      "cell_type": "code",
      "execution_count": 7,
      "metadata": {
        "colab": {
          "base_uri": "https://localhost:8080/"
        },
        "id": "08TBRVmtp1TI",
        "outputId": "420f0499-4146-4581-9881-becaa48770d8"
      },
      "outputs": [
        {
          "output_type": "stream",
          "name": "stdout",
          "text": [
            "Epoch 1/5\n",
            "1875/1875 - 15s - loss: 0.1881 - accuracy: 0.9423 - 15s/epoch - 8ms/step\n",
            "Epoch 2/5\n",
            "1875/1875 - 15s - loss: 0.0785 - accuracy: 0.9752 - 15s/epoch - 8ms/step\n",
            "Epoch 3/5\n",
            "1875/1875 - 15s - loss: 0.0539 - accuracy: 0.9827 - 15s/epoch - 8ms/step\n",
            "Epoch 4/5\n",
            "1875/1875 - 16s - loss: 0.0418 - accuracy: 0.9867 - 16s/epoch - 8ms/step\n",
            "Epoch 5/5\n",
            "1875/1875 - 15s - loss: 0.0331 - accuracy: 0.9890 - 15s/epoch - 8ms/step\n",
            "313/313 - 1s - loss: 0.0780 - accuracy: 0.9792 - 991ms/epoch - 3ms/step\n"
          ]
        },
        {
          "output_type": "execute_result",
          "data": {
            "text/plain": [
              "[0.07796091586351395, 0.979200005531311]"
            ]
          },
          "metadata": {},
          "execution_count": 7
        }
      ],
      "source": [
        "import os\n",
        "\n",
        "os.environ[\"TF_CPP_MIN_LOG_LEVEL\"] = \"2\"\n",
        "\n",
        "import tensorflow as tf\n",
        "from tensorflow import keras\n",
        "from tensorflow.keras import layers\n",
        "from tensorflow.keras.datasets import mnist\n",
        "\n",
        "(x_train, y_train), (x_test, y_test) = mnist.load_data()\n",
        "x_train = x_train.reshape(-1, 28 * 28).astype(\"float32\") / 255.0\n",
        "x_test = x_test.reshape(-1, 28 * 28).astype(\"float32\") / 255.0\n",
        "\n",
        "# Functional API (A bit more flexible)\n",
        "inputs = keras.Input(shape=(784))\n",
        "x = layers.Dense(512, activation=\"relu\", name=\"first_layer\")(inputs)\n",
        "x = layers.Dense(256, activation=\"relu\", name=\"second_layer\")(x)\n",
        "outputs = layers.Dense(10, activation=\"softmax\")(x)\n",
        "model = keras.Model(inputs=inputs, outputs=outputs)\n",
        "\n",
        "model.compile(\n",
        "    loss=keras.losses.SparseCategoricalCrossentropy(from_logits=False),\n",
        "    optimizer=keras.optimizers.Adam(learning_rate=0.001),\n",
        "    metrics=[\"accuracy\"],\n",
        ")\n",
        "\n",
        "model.fit(x_train, y_train, batch_size=32, epochs=5, verbose=2)\n",
        "model.evaluate(x_test, y_test, batch_size=32, verbose=2)"
      ]
    },
    {
      "cell_type": "code",
      "source": [
        "import os\n",
        "\n",
        "\n",
        "(x_train, y_train), (x_test, y_test) = mnist.load_data()\n",
        "x_train = x_train.reshape(-1, 28 * 28).astype(\"float32\") / 255.0\n",
        "x_test = x_test.reshape(-1, 28 * 28).astype(\"float32\") / 255.0\n",
        "\n",
        "# Sequential API (Very convenient, not very flexible)\n",
        "# SEQUENTIAL 1\n",
        "model = keras.Sequential(\n",
        "    [\n",
        "        keras.Input(shape=(28 * 28)),\n",
        "        layers.Dense(512, activation=\"relu\"),\n",
        "        layers.Dense(256, activation=\"relu\"),\n",
        "        layers.Dense(10),\n",
        "    ]\n",
        ")\n",
        "\n",
        "\n",
        "model.compile(\n",
        "    loss=keras.losses.SparseCategoricalCrossentropy(from_logits=True), # Has to be true for softmax\n",
        "    optimizer=keras.optimizers.Adam(learning_rate=0.001),\n",
        "    metrics=[\"accuracy\"],\n",
        ")\n",
        "\n",
        "model.fit(x_train, y_train, batch_size=32, epochs=5, verbose=2)\n",
        "model.evaluate(x_test, y_test, batch_size=32, verbose=2)"
      ],
      "metadata": {
        "colab": {
          "base_uri": "https://localhost:8080/"
        },
        "id": "odin0J9yr1Bq",
        "outputId": "688ab05f-d8a5-4691-86e3-fbb907a433d4"
      },
      "execution_count": 8,
      "outputs": [
        {
          "output_type": "stream",
          "name": "stdout",
          "text": [
            "Epoch 1/5\n",
            "1875/1875 - 16s - loss: 0.1863 - accuracy: 0.9435 - 16s/epoch - 8ms/step\n",
            "Epoch 2/5\n",
            "1875/1875 - 15s - loss: 0.0791 - accuracy: 0.9752 - 15s/epoch - 8ms/step\n",
            "Epoch 3/5\n",
            "1875/1875 - 15s - loss: 0.0555 - accuracy: 0.9817 - 15s/epoch - 8ms/step\n",
            "Epoch 4/5\n",
            "1875/1875 - 15s - loss: 0.0397 - accuracy: 0.9876 - 15s/epoch - 8ms/step\n",
            "Epoch 5/5\n",
            "1875/1875 - 16s - loss: 0.0338 - accuracy: 0.9888 - 16s/epoch - 8ms/step\n",
            "313/313 - 2s - loss: 0.0762 - accuracy: 0.9783 - 2s/epoch - 5ms/step\n"
          ]
        },
        {
          "output_type": "execute_result",
          "data": {
            "text/plain": [
              "[0.07615648955106735, 0.9782999753952026]"
            ]
          },
          "metadata": {},
          "execution_count": 8
        }
      ]
    },
    {
      "cell_type": "code",
      "source": [
        "\n",
        "(x_train, y_train), (x_test, y_test) = mnist.load_data()\n",
        "x_train = x_train.reshape(-1, 28 * 28).astype(\"float32\") / 255.0\n",
        "x_test = x_test.reshape(-1, 28 * 28).astype(\"float32\") / 255.0\n",
        "\n",
        "# Sequential API (Very convenient, not very flexible)\n",
        "# SEQUENTIAL 2\n",
        "model = keras.Sequential()\n",
        "model.add(keras.Input(shape=(784)))\n",
        "model.add(layers.Dense(512, activation=\"sigmoid\"))\n",
        "model.add(layers.Dense(256, activation=\"relu\", name=\"my_layer\"))\n",
        "model.add(layers.Dense(10))\n",
        "\n",
        "\n",
        "\n",
        "model.compile(\n",
        "    loss=keras.losses.SparseCategoricalCrossentropy(from_logits=True), # Has to be true for softmax\n",
        "    optimizer=keras.optimizers.Adam(learning_rate=0.001),\n",
        "    metrics=[\"accuracy\"],\n",
        ")\n",
        "\n",
        "model.fit(x_train, y_train, batch_size=32, epochs=5, verbose=2)\n",
        "model.evaluate(x_test, y_test, batch_size=32, verbose=2)"
      ],
      "metadata": {
        "colab": {
          "base_uri": "https://localhost:8080/"
        },
        "id": "7eIGQTwXr3--",
        "outputId": "5b8fb340-b972-4016-c6b2-4ef0855f88e0"
      },
      "execution_count": 9,
      "outputs": [
        {
          "output_type": "stream",
          "name": "stdout",
          "text": [
            "Epoch 1/5\n",
            "1875/1875 - 16s - loss: 0.3174 - accuracy: 0.9048 - 16s/epoch - 8ms/step\n",
            "Epoch 2/5\n",
            "1875/1875 - 15s - loss: 0.1383 - accuracy: 0.9578 - 15s/epoch - 8ms/step\n",
            "Epoch 3/5\n",
            "1875/1875 - 15s - loss: 0.0878 - accuracy: 0.9725 - 15s/epoch - 8ms/step\n",
            "Epoch 4/5\n",
            "1875/1875 - 16s - loss: 0.0594 - accuracy: 0.9808 - 16s/epoch - 9ms/step\n",
            "Epoch 5/5\n",
            "1875/1875 - 15s - loss: 0.0428 - accuracy: 0.9865 - 15s/epoch - 8ms/step\n",
            "313/313 - 1s - loss: 0.0716 - accuracy: 0.9787 - 970ms/epoch - 3ms/step\n"
          ]
        },
        {
          "output_type": "execute_result",
          "data": {
            "text/plain": [
              "[0.07160651683807373, 0.9786999821662903]"
            ]
          },
          "metadata": {},
          "execution_count": 9
        }
      ]
    }
  ]
}